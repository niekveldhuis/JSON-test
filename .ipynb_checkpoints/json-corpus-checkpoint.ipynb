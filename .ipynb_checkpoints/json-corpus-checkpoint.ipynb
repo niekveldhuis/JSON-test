{
 "cells": [
  {
   "cell_type": "markdown",
   "metadata": {},
   "source": [
    "# Importing JSON from an ORACC Project\n",
    "by Niek Veldhuis\n",
    "\n",
    "February 2017"
   ]
  },
  {
   "cell_type": "code",
   "execution_count": 1,
   "metadata": {
    "collapsed": false
   },
   "outputs": [],
   "source": [
    "import pandas as pd\n",
    "import json\n",
    "import ijson\n",
    "import urllib.request\n",
    "import re"
   ]
  },
  {
   "cell_type": "markdown",
   "metadata": {},
   "source": [
    "On using [ijson](https://www.dataquest.io/blog/python-json-tutorial/)\n",
    "try:\n",
    "for prefix, event, value in parser:\n",
    "    if 'text' in value:\n",
    "        [add value to batch]"
   ]
  },
  {
   "cell_type": "code",
   "execution_count": 2,
   "metadata": {
    "collapsed": true
   },
   "outputs": [],
   "source": [
    "filename = \"../../Google Drive/JSON/dcclt-corpus.json\"\n",
    "#with open(filename, 'r', encoding='utf-8') as f:\n",
    "#    data=json.load(f, strict=True)"
   ]
  },
  {
   "cell_type": "code",
   "execution_count": 3,
   "metadata": {
    "collapsed": false
   },
   "outputs": [
    {
     "name": "stdout",
     "output_type": "stream",
     "text": [
      "members.item.cdl.item.cdl.item.cdl.item.cdl.item.f start_map None\n",
      "members.item.cdl.item.cdl.item.cdl.item.cdl.item.f map_key xml_lang\n",
      "members.item.cdl.item.cdl.item.cdl.item.cdl.item.f map_key form\n",
      "members.item.cdl.item.cdl.item.cdl.item.cdl.item.f map_key cf\n",
      "members.item.cdl.item.cdl.item.cdl.item.cdl.item.f map_key gw\n",
      "members.item.cdl.item.cdl.item.cdl.item.cdl.item.f map_key sense\n",
      "members.item.cdl.item.cdl.item.cdl.item.cdl.item.f map_key norm0\n",
      "members.item.cdl.item.cdl.item.cdl.item.cdl.item.f map_key pos\n",
      "members.item.cdl.item.cdl.item.cdl.item.cdl.item.f map_key epos\n",
      "members.item.cdl.item.cdl.item.cdl.item.cdl.item.f map_key base\n",
      "members.item.cdl.item.cdl.item.cdl.item.cdl.item.f map_key morph\n",
      "members.item.cdl.item.cdl.item.cdl.item.cdl.item.f end_map None\n",
      "members.item.cdl.item.cdl.item.cdl.item.cdl.item.f start_map None\n",
      "members.item.cdl.item.cdl.item.cdl.item.cdl.item.f map_key xml_lang\n",
      "members.item.cdl.item.cdl.item.cdl.item.cdl.item.f map_key form\n",
      "members.item.cdl.item.cdl.item.cdl.item.cdl.item.f map_key cf\n",
      "members.item.cdl.item.cdl.item.cdl.item.cdl.item.f map_key gw\n",
      "members.item.cdl.item.cdl.item.cdl.item.cdl.item.f map_key sense\n",
      "members.item.cdl.item.cdl.item.cdl.item.cdl.item.f map_key norm0\n",
      "members.item.cdl.item.cdl.item.cdl.item.cdl.item.f map_key pos\n",
      "members.item.cdl.item.cdl.item.cdl.item.cdl.item.f map_key epos\n",
      "members.item.cdl.item.cdl.item.cdl.item.cdl.item.f map_key base\n",
      "members.item.cdl.item.cdl.item.cdl.item.cdl.item.f map_key morph\n",
      "members.item.cdl.item.cdl.item.cdl.item.cdl.item.f end_map None\n",
      "members.item.cdl.item.cdl.item.cdl.item.cdl.item.f start_map None\n",
      "members.item.cdl.item.cdl.item.cdl.item.cdl.item.f map_key xml_lang\n",
      "members.item.cdl.item.cdl.item.cdl.item.cdl.item.f map_key form\n",
      "members.item.cdl.item.cdl.item.cdl.item.cdl.item.f map_key pos\n",
      "members.item.cdl.item.cdl.item.cdl.item.cdl.item.f end_map None\n",
      "members.item.cdl.item.cdl.item.cdl.item.cdl.item.f start_map None\n",
      "members.item.cdl.item.cdl.item.cdl.item.cdl.item.f map_key xml_lang\n",
      "members.item.cdl.item.cdl.item.cdl.item.cdl.item.f map_key form\n",
      "members.item.cdl.item.cdl.item.cdl.item.cdl.item.f map_key pos\n",
      "members.item.cdl.item.cdl.item.cdl.item.cdl.item.f end_map None\n",
      "members.item.cdl.item.cdl.item.cdl.item.cdl.item.f start_map None\n",
      "members.item.cdl.item.cdl.item.cdl.item.cdl.item.f map_key xml_lang\n",
      "members.item.cdl.item.cdl.item.cdl.item.cdl.item.f map_key form\n",
      "members.item.cdl.item.cdl.item.cdl.item.cdl.item.f map_key cf\n",
      "members.item.cdl.item.cdl.item.cdl.item.cdl.item.f map_key gw\n",
      "members.item.cdl.item.cdl.item.cdl.item.cdl.item.f map_key sense\n",
      "members.item.cdl.item.cdl.item.cdl.item.cdl.item.f map_key norm0\n",
      "members.item.cdl.item.cdl.item.cdl.item.cdl.item.f map_key pos\n",
      "members.item.cdl.item.cdl.item.cdl.item.cdl.item.f map_key epos\n",
      "members.item.cdl.item.cdl.item.cdl.item.cdl.item.f map_key base\n",
      "members.item.cdl.item.cdl.item.cdl.item.cdl.item.f map_key morph\n",
      "members.item.cdl.item.cdl.item.cdl.item.cdl.item.f end_map None\n",
      "members.item.cdl.item.cdl.item.cdl.item.cdl.item.f start_map None\n",
      "members.item.cdl.item.cdl.item.cdl.item.cdl.item.f map_key xml_lang\n",
      "members.item.cdl.item.cdl.item.cdl.item.cdl.item.f map_key form\n",
      "members.item.cdl.item.cdl.item.cdl.item.cdl.item.f map_key cf\n",
      "members.item.cdl.item.cdl.item.cdl.item.cdl.item.f map_key gw\n",
      "members.item.cdl.item.cdl.item.cdl.item.cdl.item.f map_key sense\n",
      "members.item.cdl.item.cdl.item.cdl.item.cdl.item.f map_key norm0\n",
      "members.item.cdl.item.cdl.item.cdl.item.cdl.item.f map_key pos\n",
      "members.item.cdl.item.cdl.item.cdl.item.cdl.item.f map_key epos\n",
      "members.item.cdl.item.cdl.item.cdl.item.cdl.item.f map_key base\n",
      "members.item.cdl.item.cdl.item.cdl.item.cdl.item.f map_key morph\n",
      "members.item.cdl.item.cdl.item.cdl.item.cdl.item.f end_map None\n",
      "members.item.cdl.item.cdl.item.cdl.item.cdl.item.f start_map None\n",
      "members.item.cdl.item.cdl.item.cdl.item.cdl.item.f map_key xml_lang\n",
      "members.item.cdl.item.cdl.item.cdl.item.cdl.item.f map_key form\n",
      "members.item.cdl.item.cdl.item.cdl.item.cdl.item.f map_key cf\n",
      "members.item.cdl.item.cdl.item.cdl.item.cdl.item.f map_key gw\n",
      "members.item.cdl.item.cdl.item.cdl.item.cdl.item.f map_key sense\n",
      "members.item.cdl.item.cdl.item.cdl.item.cdl.item.f map_key norm0\n",
      "members.item.cdl.item.cdl.item.cdl.item.cdl.item.f map_key pos\n",
      "members.item.cdl.item.cdl.item.cdl.item.cdl.item.f map_key epos\n",
      "members.item.cdl.item.cdl.item.cdl.item.cdl.item.f map_key base\n",
      "members.item.cdl.item.cdl.item.cdl.item.cdl.item.f map_key morph\n",
      "members.item.cdl.item.cdl.item.cdl.item.cdl.item.f end_map None\n",
      "members.item.cdl.item.cdl.item.cdl.item.cdl.item.f start_map None\n",
      "members.item.cdl.item.cdl.item.cdl.item.cdl.item.f map_key xml_lang\n",
      "members.item.cdl.item.cdl.item.cdl.item.cdl.item.f map_key form\n",
      "members.item.cdl.item.cdl.item.cdl.item.cdl.item.f map_key pos\n",
      "members.item.cdl.item.cdl.item.cdl.item.cdl.item.f end_map None\n",
      "members.item.cdl.item.cdl.item.cdl.item.cdl.item.f start_map None\n",
      "members.item.cdl.item.cdl.item.cdl.item.cdl.item.f map_key xml_lang\n",
      "members.item.cdl.item.cdl.item.cdl.item.cdl.item.f map_key form\n",
      "members.item.cdl.item.cdl.item.cdl.item.cdl.item.f map_key pos\n",
      "members.item.cdl.item.cdl.item.cdl.item.cdl.item.f end_map None\n",
      "members.item.cdl.item.cdl.item.cdl.item.cdl.item.f start_map None\n",
      "members.item.cdl.item.cdl.item.cdl.item.cdl.item.f map_key xml_lang\n",
      "members.item.cdl.item.cdl.item.cdl.item.cdl.item.f map_key form\n",
      "members.item.cdl.item.cdl.item.cdl.item.cdl.item.f map_key pos\n",
      "members.item.cdl.item.cdl.item.cdl.item.cdl.item.f end_map None\n",
      "members.item.cdl.item.cdl.item.cdl.item.cdl.item.f start_map None\n",
      "members.item.cdl.item.cdl.item.cdl.item.cdl.item.f map_key xml_lang\n",
      "members.item.cdl.item.cdl.item.cdl.item.cdl.item.f map_key form\n",
      "members.item.cdl.item.cdl.item.cdl.item.cdl.item.f map_key pos\n",
      "members.item.cdl.item.cdl.item.cdl.item.cdl.item.f end_map None\n",
      "members.item.cdl.item.cdl.item.cdl.item.cdl.item.f start_map None\n",
      "members.item.cdl.item.cdl.item.cdl.item.cdl.item.f map_key xml_lang\n",
      "members.item.cdl.item.cdl.item.cdl.item.cdl.item.f map_key form\n",
      "members.item.cdl.item.cdl.item.cdl.item.cdl.item.f map_key cf\n",
      "members.item.cdl.item.cdl.item.cdl.item.cdl.item.f map_key gw\n",
      "members.item.cdl.item.cdl.item.cdl.item.cdl.item.f map_key sense\n",
      "members.item.cdl.item.cdl.item.cdl.item.cdl.item.f map_key norm0\n",
      "members.item.cdl.item.cdl.item.cdl.item.cdl.item.f map_key pos\n",
      "members.item.cdl.item.cdl.item.cdl.item.cdl.item.f map_key epos\n",
      "members.item.cdl.item.cdl.item.cdl.item.cdl.item.f map_key base\n",
      "members.item.cdl.item.cdl.item.cdl.item.cdl.item.f map_key morph\n",
      "members.item.cdl.item.cdl.item.cdl.item.cdl.item.f end_map None\n",
      "members.item.cdl.item.cdl.item.cdl.item.cdl.item.f start_map None\n",
      "members.item.cdl.item.cdl.item.cdl.item.cdl.item.f map_key xml_lang\n",
      "members.item.cdl.item.cdl.item.cdl.item.cdl.item.f map_key form\n",
      "members.item.cdl.item.cdl.item.cdl.item.cdl.item.f map_key cf\n",
      "members.item.cdl.item.cdl.item.cdl.item.cdl.item.f map_key gw\n",
      "members.item.cdl.item.cdl.item.cdl.item.cdl.item.f map_key sense\n",
      "members.item.cdl.item.cdl.item.cdl.item.cdl.item.f map_key norm0\n",
      "members.item.cdl.item.cdl.item.cdl.item.cdl.item.f map_key pos\n",
      "members.item.cdl.item.cdl.item.cdl.item.cdl.item.f map_key epos\n",
      "members.item.cdl.item.cdl.item.cdl.item.cdl.item.f map_key base\n",
      "members.item.cdl.item.cdl.item.cdl.item.cdl.item.f map_key morph\n",
      "members.item.cdl.item.cdl.item.cdl.item.cdl.item.f end_map None\n",
      "members.item.cdl.item.cdl.item.cdl.item.cdl.item.f start_map None\n",
      "members.item.cdl.item.cdl.item.cdl.item.cdl.item.f map_key xml_lang\n",
      "members.item.cdl.item.cdl.item.cdl.item.cdl.item.f map_key form\n",
      "members.item.cdl.item.cdl.item.cdl.item.cdl.item.f map_key cf\n",
      "members.item.cdl.item.cdl.item.cdl.item.cdl.item.f map_key gw\n",
      "members.item.cdl.item.cdl.item.cdl.item.cdl.item.f map_key sense\n",
      "members.item.cdl.item.cdl.item.cdl.item.cdl.item.f map_key norm0\n",
      "members.item.cdl.item.cdl.item.cdl.item.cdl.item.f map_key pos\n",
      "members.item.cdl.item.cdl.item.cdl.item.cdl.item.f map_key epos\n",
      "members.item.cdl.item.cdl.item.cdl.item.cdl.item.f map_key base\n",
      "members.item.cdl.item.cdl.item.cdl.item.cdl.item.f map_key morph\n",
      "members.item.cdl.item.cdl.item.cdl.item.cdl.item.f end_map None\n",
      "members.item.cdl.item.cdl.item.cdl.item.cdl.item.f start_map None\n",
      "members.item.cdl.item.cdl.item.cdl.item.cdl.item.f map_key xml_lang\n",
      "members.item.cdl.item.cdl.item.cdl.item.cdl.item.f map_key form\n",
      "members.item.cdl.item.cdl.item.cdl.item.cdl.item.f map_key cf\n",
      "members.item.cdl.item.cdl.item.cdl.item.cdl.item.f map_key gw\n",
      "members.item.cdl.item.cdl.item.cdl.item.cdl.item.f map_key sense\n",
      "members.item.cdl.item.cdl.item.cdl.item.cdl.item.f map_key norm0\n",
      "members.item.cdl.item.cdl.item.cdl.item.cdl.item.f map_key pos\n",
      "members.item.cdl.item.cdl.item.cdl.item.cdl.item.f map_key epos\n",
      "members.item.cdl.item.cdl.item.cdl.item.cdl.item.f map_key base\n",
      "members.item.cdl.item.cdl.item.cdl.item.cdl.item.f map_key morph\n",
      "members.item.cdl.item.cdl.item.cdl.item.cdl.item.f end_map None\n",
      "members.item.cdl.item.cdl.item.cdl.item.cdl.item.f start_map None\n",
      "members.item.cdl.item.cdl.item.cdl.item.cdl.item.f map_key xml_lang\n",
      "members.item.cdl.item.cdl.item.cdl.item.cdl.item.f map_key form\n",
      "members.item.cdl.item.cdl.item.cdl.item.cdl.item.f map_key cf\n",
      "members.item.cdl.item.cdl.item.cdl.item.cdl.item.f map_key gw\n",
      "members.item.cdl.item.cdl.item.cdl.item.cdl.item.f map_key sense\n",
      "members.item.cdl.item.cdl.item.cdl.item.cdl.item.f map_key norm0\n",
      "members.item.cdl.item.cdl.item.cdl.item.cdl.item.f map_key pos\n",
      "members.item.cdl.item.cdl.item.cdl.item.cdl.item.f map_key epos\n",
      "members.item.cdl.item.cdl.item.cdl.item.cdl.item.f map_key base\n",
      "members.item.cdl.item.cdl.item.cdl.item.cdl.item.f map_key morph\n",
      "members.item.cdl.item.cdl.item.cdl.item.cdl.item.f end_map None\n",
      "members.item.cdl.item.cdl.item.cdl.item.cdl.item.f start_map None\n",
      "members.item.cdl.item.cdl.item.cdl.item.cdl.item.f map_key xml_lang\n",
      "members.item.cdl.item.cdl.item.cdl.item.cdl.item.f map_key form\n",
      "members.item.cdl.item.cdl.item.cdl.item.cdl.item.f map_key cf\n",
      "members.item.cdl.item.cdl.item.cdl.item.cdl.item.f map_key gw\n",
      "members.item.cdl.item.cdl.item.cdl.item.cdl.item.f map_key sense\n",
      "members.item.cdl.item.cdl.item.cdl.item.cdl.item.f map_key norm0\n",
      "members.item.cdl.item.cdl.item.cdl.item.cdl.item.f map_key pos\n",
      "members.item.cdl.item.cdl.item.cdl.item.cdl.item.f map_key epos\n",
      "members.item.cdl.item.cdl.item.cdl.item.cdl.item.f map_key base\n",
      "members.item.cdl.item.cdl.item.cdl.item.cdl.item.f map_key morph\n",
      "members.item.cdl.item.cdl.item.cdl.item.cdl.item.f end_map None\n",
      "members.item.cdl.item.cdl.item.cdl.item.cdl.item.f start_map None\n",
      "members.item.cdl.item.cdl.item.cdl.item.cdl.item.f map_key xml_lang\n",
      "members.item.cdl.item.cdl.item.cdl.item.cdl.item.f map_key form\n",
      "members.item.cdl.item.cdl.item.cdl.item.cdl.item.f map_key cf\n",
      "members.item.cdl.item.cdl.item.cdl.item.cdl.item.f map_key gw\n",
      "members.item.cdl.item.cdl.item.cdl.item.cdl.item.f map_key sense\n",
      "members.item.cdl.item.cdl.item.cdl.item.cdl.item.f map_key norm0\n",
      "members.item.cdl.item.cdl.item.cdl.item.cdl.item.f map_key pos\n",
      "members.item.cdl.item.cdl.item.cdl.item.cdl.item.f map_key epos\n",
      "members.item.cdl.item.cdl.item.cdl.item.cdl.item.f map_key base\n",
      "members.item.cdl.item.cdl.item.cdl.item.cdl.item.f map_key morph\n",
      "members.item.cdl.item.cdl.item.cdl.item.cdl.item.f end_map None\n",
      "members.item.cdl.item.cdl.item.cdl.item.cdl.item.f start_map None\n",
      "members.item.cdl.item.cdl.item.cdl.item.cdl.item.f map_key xml_lang\n",
      "members.item.cdl.item.cdl.item.cdl.item.cdl.item.f map_key form\n",
      "members.item.cdl.item.cdl.item.cdl.item.cdl.item.f map_key cf\n",
      "members.item.cdl.item.cdl.item.cdl.item.cdl.item.f map_key gw\n",
      "members.item.cdl.item.cdl.item.cdl.item.cdl.item.f map_key sense\n",
      "members.item.cdl.item.cdl.item.cdl.item.cdl.item.f map_key norm0\n",
      "members.item.cdl.item.cdl.item.cdl.item.cdl.item.f map_key pos\n",
      "members.item.cdl.item.cdl.item.cdl.item.cdl.item.f map_key epos\n",
      "members.item.cdl.item.cdl.item.cdl.item.cdl.item.f map_key base\n",
      "members.item.cdl.item.cdl.item.cdl.item.cdl.item.f map_key morph\n",
      "members.item.cdl.item.cdl.item.cdl.item.cdl.item.f end_map None\n",
      "members.item.cdl.item.cdl.item.cdl.item.cdl.item.f start_map None\n",
      "members.item.cdl.item.cdl.item.cdl.item.cdl.item.f map_key xml_lang\n",
      "members.item.cdl.item.cdl.item.cdl.item.cdl.item.f map_key form\n",
      "members.item.cdl.item.cdl.item.cdl.item.cdl.item.f map_key cf\n",
      "members.item.cdl.item.cdl.item.cdl.item.cdl.item.f map_key gw\n",
      "members.item.cdl.item.cdl.item.cdl.item.cdl.item.f map_key sense\n",
      "members.item.cdl.item.cdl.item.cdl.item.cdl.item.f map_key norm0\n",
      "members.item.cdl.item.cdl.item.cdl.item.cdl.item.f map_key pos\n",
      "members.item.cdl.item.cdl.item.cdl.item.cdl.item.f map_key epos\n",
      "members.item.cdl.item.cdl.item.cdl.item.cdl.item.f map_key base\n",
      "members.item.cdl.item.cdl.item.cdl.item.cdl.item.f map_key morph\n",
      "members.item.cdl.item.cdl.item.cdl.item.cdl.item.f end_map None\n",
      "members.item.cdl.item.cdl.item.cdl.item.cdl.item.f start_map None\n",
      "members.item.cdl.item.cdl.item.cdl.item.cdl.item.f map_key xml_lang\n",
      "members.item.cdl.item.cdl.item.cdl.item.cdl.item.f map_key form\n",
      "members.item.cdl.item.cdl.item.cdl.item.cdl.item.f map_key cf\n",
      "members.item.cdl.item.cdl.item.cdl.item.cdl.item.f map_key gw\n",
      "members.item.cdl.item.cdl.item.cdl.item.cdl.item.f map_key sense\n",
      "members.item.cdl.item.cdl.item.cdl.item.cdl.item.f map_key norm0\n",
      "members.item.cdl.item.cdl.item.cdl.item.cdl.item.f map_key pos\n",
      "members.item.cdl.item.cdl.item.cdl.item.cdl.item.f map_key epos\n",
      "members.item.cdl.item.cdl.item.cdl.item.cdl.item.f map_key base\n",
      "members.item.cdl.item.cdl.item.cdl.item.cdl.item.f map_key morph\n",
      "members.item.cdl.item.cdl.item.cdl.item.cdl.item.f end_map None\n",
      "members.item.cdl.item.cdl.item.cdl.item.cdl.item.f start_map None\n",
      "members.item.cdl.item.cdl.item.cdl.item.cdl.item.f map_key xml_lang\n",
      "members.item.cdl.item.cdl.item.cdl.item.cdl.item.f map_key form\n",
      "members.item.cdl.item.cdl.item.cdl.item.cdl.item.f map_key cf\n",
      "members.item.cdl.item.cdl.item.cdl.item.cdl.item.f map_key gw\n",
      "members.item.cdl.item.cdl.item.cdl.item.cdl.item.f map_key sense\n",
      "members.item.cdl.item.cdl.item.cdl.item.cdl.item.f map_key norm0\n",
      "members.item.cdl.item.cdl.item.cdl.item.cdl.item.f map_key pos\n",
      "members.item.cdl.item.cdl.item.cdl.item.cdl.item.f map_key epos\n",
      "members.item.cdl.item.cdl.item.cdl.item.cdl.item.f map_key base\n",
      "members.item.cdl.item.cdl.item.cdl.item.cdl.item.f map_key morph\n",
      "members.item.cdl.item.cdl.item.cdl.item.cdl.item.f end_map None\n",
      "members.item.cdl.item.cdl.item.cdl.item.cdl.item.f start_map None\n",
      "members.item.cdl.item.cdl.item.cdl.item.cdl.item.f map_key xml_lang\n",
      "members.item.cdl.item.cdl.item.cdl.item.cdl.item.f map_key form\n",
      "members.item.cdl.item.cdl.item.cdl.item.cdl.item.f map_key pos\n",
      "members.item.cdl.item.cdl.item.cdl.item.cdl.item.f end_map None\n",
      "members.item.cdl.item.cdl.item.cdl.item.cdl.item.f start_map None\n",
      "members.item.cdl.item.cdl.item.cdl.item.cdl.item.f map_key xml_lang\n",
      "members.item.cdl.item.cdl.item.cdl.item.cdl.item.f map_key form\n",
      "members.item.cdl.item.cdl.item.cdl.item.cdl.item.f map_key pos\n",
      "members.item.cdl.item.cdl.item.cdl.item.cdl.item.f end_map None\n",
      "members.item.cdl.item.cdl.item.cdl.item.cdl.item.f start_map None\n",
      "members.item.cdl.item.cdl.item.cdl.item.cdl.item.f map_key xml_lang\n",
      "members.item.cdl.item.cdl.item.cdl.item.cdl.item.f map_key form\n",
      "members.item.cdl.item.cdl.item.cdl.item.cdl.item.f map_key cf\n",
      "members.item.cdl.item.cdl.item.cdl.item.cdl.item.f map_key gw\n",
      "members.item.cdl.item.cdl.item.cdl.item.cdl.item.f map_key sense\n",
      "members.item.cdl.item.cdl.item.cdl.item.cdl.item.f map_key norm0\n",
      "members.item.cdl.item.cdl.item.cdl.item.cdl.item.f map_key pos\n",
      "members.item.cdl.item.cdl.item.cdl.item.cdl.item.f map_key epos\n",
      "members.item.cdl.item.cdl.item.cdl.item.cdl.item.f map_key base\n",
      "members.item.cdl.item.cdl.item.cdl.item.cdl.item.f map_key morph\n",
      "members.item.cdl.item.cdl.item.cdl.item.cdl.item.f end_map None\n",
      "members.item.cdl.item.cdl.item.cdl.item.cdl.item.f start_map None\n",
      "members.item.cdl.item.cdl.item.cdl.item.cdl.item.f map_key xml_lang\n",
      "members.item.cdl.item.cdl.item.cdl.item.cdl.item.f map_key form\n",
      "members.item.cdl.item.cdl.item.cdl.item.cdl.item.f map_key pos\n",
      "members.item.cdl.item.cdl.item.cdl.item.cdl.item.f end_map None\n",
      "members.item.cdl.item.cdl.item.cdl.item.cdl.item.f start_map None\n",
      "members.item.cdl.item.cdl.item.cdl.item.cdl.item.f map_key xml_lang\n"
     ]
    }
   ],
   "source": [
    "parser = ijson.parse(open(filename))\n",
    "counter = 0\n",
    "for prefix, event, value in parser:\n",
    "    if counter >250:\n",
    "        break\n",
    "    \n",
    "    if prefix.endswith('.f'):\n",
    "        print(prefix, event, value)\n",
    "        counter +=1"
   ]
  },
  {
   "cell_type": "code",
   "execution_count": 7,
   "metadata": {
    "collapsed": false
   },
   "outputs": [],
   "source": [
    "counter = 0\n",
    "for prefix, event, value in parser:\n",
    "    if counter > 250:\n",
    "        break\n",
    "    if prefix.endswith('.node'):\n",
    "        print(prefix, event, value)\n",
    "        counter +=1\n"
   ]
  },
  {
   "cell_type": "code",
   "execution_count": 22,
   "metadata": {
    "collapsed": true
   },
   "outputs": [],
   "source": [
    "with open(filename, 'r') as f:\n",
    "    col = ijson.items(f, 'members.item.cdl.item.cdl.item')\n",
    "    objects = list(col)"
   ]
  },
  {
   "cell_type": "code",
   "execution_count": 23,
   "metadata": {
    "collapsed": false
   },
   "outputs": [
    {
     "data": {
      "text/plain": [
       "[]"
      ]
     },
     "execution_count": 23,
     "metadata": {},
     "output_type": "execute_result"
    }
   ],
   "source": [
    "test2 = objects\n",
    "test_d = [o for o in test2 if o['node'] == 'd' ]\n",
    "test_d\n",
    "test_d_2 = [o for o in test_d if o['ref'][:7] == 'Q000039']\n",
    "test_d_2"
   ]
  },
  {
   "cell_type": "code",
   "execution_count": 24,
   "metadata": {
    "collapsed": false
   },
   "outputs": [],
   "source": [
    "with open(filename, 'r') as f:\n",
    "    text = ijson.items(f, 'members.item.cdl.item.cdl.item.cdl.item.cdl.item')\n",
    "    objects = list(text)"
   ]
  },
  {
   "cell_type": "code",
   "execution_count": null,
   "metadata": {
    "collapsed": false
   },
   "outputs": [],
   "source": [
    "objects[0:300]"
   ]
  },
  {
   "cell_type": "code",
   "execution_count": null,
   "metadata": {
    "collapsed": false
   },
   "outputs": [],
   "source": [
    "len(objects)"
   ]
  },
  {
   "cell_type": "code",
   "execution_count": null,
   "metadata": {
    "collapsed": false
   },
   "outputs": [],
   "source": [
    "test = objects[0:300]\n",
    "test = [object for object in objects if object['node'] == 'l']\n",
    "test[0]['f']['ref'] = test[0]['ref']\n",
    "for i in range(0, len(test)):\n",
    "    test[i]['f']['ref'] = test[i]['ref']\n",
    "test_f = [item['f'] for item in test]\n",
    "test_f"
   ]
  },
  {
   "cell_type": "code",
   "execution_count": null,
   "metadata": {
    "collapsed": false,
    "scrolled": false
   },
   "outputs": [],
   "source": [
    "test_df = pd.DataFrame(test_f)\n",
    "test_df\n",
    "#test_df.loc[test_df['xml_lang'].isin(['akk'])]"
   ]
  },
  {
   "cell_type": "code",
   "execution_count": null,
   "metadata": {
    "collapsed": true
   },
   "outputs": [],
   "source": [
    "def buildlemma(row):\n",
    "    if row['pos'] in ['u', 'X']:\n",
    "        row['lemma'] = row['lemma'] + row['form']\n",
    "    else:\n",
    "        row['lemma'] = row['lemma'] + '[' + row['gw'] + ']' + row['pos']\n",
    "        if row['xml_lang'][:3] == 'sux':\n",
    "            row['lemma'] = row['lemma'] + '/' + row['base']\n",
    "    return row['lemma']"
   ]
  },
  {
   "cell_type": "code",
   "execution_count": null,
   "metadata": {
    "collapsed": false
   },
   "outputs": [],
   "source": [
    "test_df = test_df.fillna('')\n",
    "test_df['lemma'] = test_df['xml_lang'] + ':' + test_df['norm'] + test_df['norm0']\n",
    "test_df['lemma'] = test_df.apply(buildlemma, axis=1)\n",
    "test_df"
   ]
  },
  {
   "cell_type": "code",
   "execution_count": null,
   "metadata": {
    "collapsed": false
   },
   "outputs": [],
   "source": [
    "#test_df['textid'] = [id[:7] for id in test_df['ref']]\n",
    "test_df['line_id'] = [id[:7] + ' ' + re.match('[0-9]+' ,id[8:]).group() for id in test_df['ref']]\n",
    "test_df[['line_id', 'lemma']]"
   ]
  },
  {
   "cell_type": "code",
   "execution_count": null,
   "metadata": {
    "collapsed": false
   },
   "outputs": [],
   "source": [
    "lines = test_df['lemma'].groupby(test_df['line_id']).apply(' '.join)\n"
   ]
  },
  {
   "cell_type": "code",
   "execution_count": null,
   "metadata": {
    "collapsed": false
   },
   "outputs": [],
   "source": [
    "type(lines)"
   ]
  },
  {
   "cell_type": "code",
   "execution_count": null,
   "metadata": {
    "collapsed": true
   },
   "outputs": [],
   "source": [
    "lines_df = pd.DataFrame(lines)"
   ]
  },
  {
   "cell_type": "code",
   "execution_count": null,
   "metadata": {
    "collapsed": false
   },
   "outputs": [],
   "source": [
    "lines_df"
   ]
  },
  {
   "cell_type": "code",
   "execution_count": null,
   "metadata": {
    "collapsed": true
   },
   "outputs": [],
   "source": []
  }
 ],
 "metadata": {
  "anaconda-cloud": {},
  "kernelspec": {
   "display_name": "Python [default]",
   "language": "python",
   "name": "python3"
  },
  "language_info": {
   "codemirror_mode": {
    "name": "ipython",
    "version": 3
   },
   "file_extension": ".py",
   "mimetype": "text/x-python",
   "name": "python",
   "nbconvert_exporter": "python",
   "pygments_lexer": "ipython3",
   "version": "3.5.2"
  }
 },
 "nbformat": 4,
 "nbformat_minor": 2
}
